{
 "cells": [
  {
   "cell_type": "markdown",
   "metadata": {},
   "source": [
    "# 0. Installing Transformers and Importing Dependencies"
   ]
  },
  {
   "cell_type": "code",
   "execution_count": 5,
   "metadata": {},
   "outputs": [],
   "source": [
    "from transformers import pipeline\n",
    "from bs4 import BeautifulSoup\n",
    "import requests\n",
    "import pandas as pd\n",
    "import numpy as np"
   ]
  },
  {
   "cell_type": "markdown",
   "metadata": {},
   "source": [
    "# 1. Load Summarization Pipeline"
   ]
  },
  {
   "cell_type": "code",
   "execution_count": 2,
   "metadata": {},
   "outputs": [
    {
     "name": "stderr",
     "output_type": "stream",
     "text": [
      "No model was supplied, defaulted to sshleifer/distilbart-cnn-12-6 (https://huggingface.co/sshleifer/distilbart-cnn-12-6)\n"
     ]
    },
    {
     "data": {
      "application/vnd.jupyter.widget-view+json": {
       "model_id": "bc4a1321d6b34565929455d687e1041f",
       "version_major": 2,
       "version_minor": 0
      },
      "text/plain": [
       "Downloading:   0%|          | 0.00/1.76k [00:00<?, ?B/s]"
      ]
     },
     "metadata": {},
     "output_type": "display_data"
    },
    {
     "data": {
      "application/vnd.jupyter.widget-view+json": {
       "model_id": "dc6479a7e25c4cab9c7873bd27a2bb73",
       "version_major": 2,
       "version_minor": 0
      },
      "text/plain": [
       "Downloading:   0%|          | 0.00/1.14G [00:00<?, ?B/s]"
      ]
     },
     "metadata": {},
     "output_type": "display_data"
    },
    {
     "data": {
      "application/vnd.jupyter.widget-view+json": {
       "model_id": "4e5ca09ed0c84521a511230300de2968",
       "version_major": 2,
       "version_minor": 0
      },
      "text/plain": [
       "Downloading:   0%|          | 0.00/26.0 [00:00<?, ?B/s]"
      ]
     },
     "metadata": {},
     "output_type": "display_data"
    },
    {
     "data": {
      "application/vnd.jupyter.widget-view+json": {
       "model_id": "781f974d84dd4506b5699cb22da6605f",
       "version_major": 2,
       "version_minor": 0
      },
      "text/plain": [
       "Downloading:   0%|          | 0.00/878k [00:00<?, ?B/s]"
      ]
     },
     "metadata": {},
     "output_type": "display_data"
    },
    {
     "data": {
      "application/vnd.jupyter.widget-view+json": {
       "model_id": "41d0ceb7b1024846bc5972d5386aed6b",
       "version_major": 2,
       "version_minor": 0
      },
      "text/plain": [
       "Downloading:   0%|          | 0.00/446k [00:00<?, ?B/s]"
      ]
     },
     "metadata": {},
     "output_type": "display_data"
    }
   ],
   "source": [
    "summarizer = pipeline(\"summarization\")"
   ]
  },
  {
   "cell_type": "markdown",
   "metadata": {},
   "source": [
    "# 2. Get The Feedback Raw Data"
   ]
  },
  {
   "cell_type": "code",
   "execution_count": 59,
   "metadata": {},
   "outputs": [],
   "source": [
    "feedback_data = pd.read_excel(r'/Users/neerajkatiyar/Documents-HD/OSE-SciLearn/SciLearn-NLP/Data/feedback.xlsx')\n",
    "merged_data =pd.read_excel(r'/Users/neerajkatiyar/Documents-HD/OSE-SciLearn/SciLearn-NLP/Data/Merged_feedback.xlsx')"
   ]
  },
  {
   "cell_type": "code",
   "execution_count": 60,
   "metadata": {},
   "outputs": [],
   "source": [
    "feedback_data['summary']= np.nan\n",
    "feedback_data['original_length']= np.nan\n",
    "feedback_data['summary_length']= np.nan"
   ]
  },
  {
   "cell_type": "code",
   "execution_count": 61,
   "metadata": {},
   "outputs": [],
   "source": [
    "ARTICLE = feedback_data['Text'][0]"
   ]
  },
  {
   "cell_type": "code",
   "execution_count": 64,
   "metadata": {},
   "outputs": [
    {
     "data": {
      "text/plain": [
       "191"
      ]
     },
     "execution_count": 64,
     "metadata": {},
     "output_type": "execute_result"
    }
   ],
   "source": [
    "ARTICLE.split()"
   ]
  },
  {
   "cell_type": "markdown",
   "metadata": {},
   "source": [
    "# 3. Chunk Text"
   ]
  },
  {
   "cell_type": "code",
   "execution_count": 65,
   "metadata": {},
   "outputs": [],
   "source": [
    "max_chunk = 500"
   ]
  },
  {
   "cell_type": "code",
   "execution_count": 15,
   "metadata": {},
   "outputs": [],
   "source": [
    "ARTICLE = ARTICLE.replace('.', '.<eos>')\n",
    "ARTICLE = ARTICLE.replace('?', '?<eos>')\n",
    "ARTICLE = ARTICLE.replace('!', '!<eos>')"
   ]
  },
  {
   "cell_type": "code",
   "execution_count": 16,
   "metadata": {},
   "outputs": [
    {
     "name": "stdout",
     "output_type": "stream",
     "text": [
      "0\n"
     ]
    }
   ],
   "source": [
    "sentences = ARTICLE.split('<eos>')\n",
    "current_chunk = 0 \n",
    "chunks = []\n",
    "for sentence in sentences:\n",
    "    if len(chunks) == current_chunk + 1: \n",
    "        if len(chunks[current_chunk]) + len(sentence.split(' ')) <= max_chunk:\n",
    "            chunks[current_chunk].extend(sentence.split(' '))\n",
    "        else:\n",
    "            current_chunk += 1\n",
    "            chunks.append(sentence.split(' '))\n",
    "    else:\n",
    "        print(current_chunk)\n",
    "        chunks.append(sentence.split(' '))\n",
    "\n",
    "for chunk_id in range(len(chunks)):\n",
    "    chunks[chunk_id] = ' '.join(chunks[chunk_id])"
   ]
  },
  {
   "cell_type": "code",
   "execution_count": 17,
   "metadata": {},
   "outputs": [
    {
     "data": {
      "text/plain": [
       "1"
      ]
     },
     "execution_count": 17,
     "metadata": {},
     "output_type": "execute_result"
    }
   ],
   "source": [
    "len(chunks)"
   ]
  },
  {
   "cell_type": "markdown",
   "metadata": {},
   "source": [
    "# 4. Summarize Text"
   ]
  },
  {
   "cell_type": "code",
   "execution_count": 29,
   "metadata": {},
   "outputs": [],
   "source": [
    "res = summarizer(chunks, max_length=200, min_length=80, do_sample=False)"
   ]
  },
  {
   "cell_type": "code",
   "execution_count": 46,
   "metadata": {},
   "outputs": [
    {
     "data": {
      "text/plain": [
       "[{'summary_text': \" I think the most important thing I learned at the bootcamp is to adjust my lifestyle and studying habits to be more effective . Normally I spend long sessions studying and if I do take a break, I watch a TV show or play a game . I'm going to try to increase my physical activity overall (in terms of both exercise and trying to walk to places more than drive) to see how well that helps with my ability to focus throughout a day .\"}]"
      ]
     },
     "execution_count": 46,
     "metadata": {},
     "output_type": "execute_result"
    }
   ],
   "source": [
    "res"
   ]
  },
  {
   "cell_type": "code",
   "execution_count": 24,
   "metadata": {},
   "outputs": [
    {
     "data": {
      "text/plain": [
       "'I think the most important thing I learned at the bootcamp is to adjust my lifestyle and studying habits\\nto be more effective.<eos> For example, one of the things I’ll apply in the future is the use of specific types of breaks.<eos> Normally I spend long sessions studying and if I do take a break, I watch a TV show or play a game.<eos> So now that I know this is the least effective type of break and learning that the most effective break type is exercise, I’m going to try alternating studying and exercise going forward and check if that’s works better for me.<eos> Another thing that I’m going to apply is occasional meditation; the science behind the effectiveness of meditation was really surprising for me and I’ll try weekly meditation sessions to see if it improves both how well I study and how well I feel throughout a day.<eos> Finally, I’m going to try to increase my physical activity overall (in terms of both exercise and trying to walk to places\\nmore instead of driving) to see how well that helps with my ability to focus throughout a day.<eos>'"
      ]
     },
     "execution_count": 24,
     "metadata": {},
     "output_type": "execute_result"
    }
   ],
   "source": [
    "ARTICLE"
   ]
  },
  {
   "cell_type": "code",
   "execution_count": 31,
   "metadata": {},
   "outputs": [
    {
     "data": {
      "text/plain": [
       "\" I think the most important thing I learned at the bootcamp is to adjust my lifestyle and studying habits to be more effective . Normally I spend long sessions studying and if I do take a break, I watch a TV show or play a game . I'm going to try to increase my physical activity overall (in terms of both exercise and trying to walk to places more than drive) to see how well that helps with my ability to focus throughout a day .\""
      ]
     },
     "execution_count": 31,
     "metadata": {},
     "output_type": "execute_result"
    }
   ],
   "source": [
    "' '.join([summ['summary_text'] for summ in res])"
   ]
  },
  {
   "cell_type": "code",
   "execution_count": 32,
   "metadata": {},
   "outputs": [],
   "source": [
    "text = ' '.join([summ['summary_text'] for summ in res])"
   ]
  },
  {
   "cell_type": "code",
   "execution_count": 47,
   "metadata": {},
   "outputs": [
    {
     "data": {
      "text/plain": [
       "\" I think the most important thing I learned at the bootcamp is to adjust my lifestyle and studying habits to be more effective . Normally I spend long sessions studying and if I do take a break, I watch a TV show or play a game . I'm going to try to increase my physical activity overall (in terms of both exercise and trying to walk to places more than drive) to see how well that helps with my ability to focus throughout a day .\""
      ]
     },
     "execution_count": 47,
     "metadata": {},
     "output_type": "execute_result"
    }
   ],
   "source": [
    "text"
   ]
  },
  {
   "cell_type": "code",
   "execution_count": 66,
   "metadata": {},
   "outputs": [
    {
     "name": "stderr",
     "output_type": "stream",
     "text": [
      "<ipython-input-66-f1953e1ec181>:3: SettingWithCopyWarning: \n",
      "A value is trying to be set on a copy of a slice from a DataFrame\n",
      "\n",
      "See the caveats in the documentation: https://pandas.pydata.org/pandas-docs/stable/user_guide/indexing.html#returning-a-view-versus-a-copy\n",
      "  feedback_data['original_length'][index] = len(ARTICLE.split())\n"
     ]
    },
    {
     "name": "stdout",
     "output_type": "stream",
     "text": [
      "0\n"
     ]
    },
    {
     "name": "stderr",
     "output_type": "stream",
     "text": [
      "<ipython-input-66-f1953e1ec181>:27: SettingWithCopyWarning: \n",
      "A value is trying to be set on a copy of a slice from a DataFrame\n",
      "\n",
      "See the caveats in the documentation: https://pandas.pydata.org/pandas-docs/stable/user_guide/indexing.html#returning-a-view-versus-a-copy\n",
      "  feedback_data['summary'][index] = text\n",
      "<ipython-input-66-f1953e1ec181>:28: SettingWithCopyWarning: \n",
      "A value is trying to be set on a copy of a slice from a DataFrame\n",
      "\n",
      "See the caveats in the documentation: https://pandas.pydata.org/pandas-docs/stable/user_guide/indexing.html#returning-a-view-versus-a-copy\n",
      "  feedback_data['summary_length'][index] = length\n"
     ]
    },
    {
     "name": "stdout",
     "output_type": "stream",
     "text": [
      "0\n",
      "0\n",
      "0\n",
      "0\n",
      "0\n",
      "0\n",
      "0\n"
     ]
    },
    {
     "name": "stderr",
     "output_type": "stream",
     "text": [
      "Your max_length is set to 140, but you input_length is only 5. You might consider decreasing max_length manually, e.g. summarizer('...', max_length=2)\n"
     ]
    },
    {
     "name": "stdout",
     "output_type": "stream",
     "text": [
      "0\n",
      "0\n",
      "0\n"
     ]
    },
    {
     "name": "stderr",
     "output_type": "stream",
     "text": [
      "Your max_length is set to 140, but you input_length is only 91. You might consider decreasing max_length manually, e.g. summarizer('...', max_length=45)\n"
     ]
    },
    {
     "name": "stdout",
     "output_type": "stream",
     "text": [
      "0\n",
      "0\n"
     ]
    },
    {
     "name": "stderr",
     "output_type": "stream",
     "text": [
      "Your max_length is set to 140, but you input_length is only 114. You might consider decreasing max_length manually, e.g. summarizer('...', max_length=57)\n"
     ]
    },
    {
     "name": "stdout",
     "output_type": "stream",
     "text": [
      "0\n",
      "0\n"
     ]
    },
    {
     "name": "stderr",
     "output_type": "stream",
     "text": [
      "Your max_length is set to 140, but you input_length is only 123. You might consider decreasing max_length manually, e.g. summarizer('...', max_length=61)\n"
     ]
    },
    {
     "name": "stdout",
     "output_type": "stream",
     "text": [
      "0\n",
      "0\n",
      "0\n",
      "0\n",
      "0\n",
      "0\n",
      "0\n",
      "0\n",
      "0\n"
     ]
    },
    {
     "name": "stderr",
     "output_type": "stream",
     "text": [
      "Your max_length is set to 140, but you input_length is only 100. You might consider decreasing max_length manually, e.g. summarizer('...', max_length=50)\n"
     ]
    },
    {
     "name": "stdout",
     "output_type": "stream",
     "text": [
      "0\n",
      "0\n",
      "0\n",
      "0\n",
      "0\n",
      "0\n",
      "0\n"
     ]
    }
   ],
   "source": [
    "for index, row in feedback_data.iterrows():\n",
    "    ARTICLE = row['Text']\n",
    "    feedback_data['original_length'][index] = len(ARTICLE.split())\n",
    "    ARTICLE = ARTICLE.replace('.', '.<eos>')\n",
    "    ARTICLE = ARTICLE.replace('?', '?<eos>')\n",
    "    ARTICLE = ARTICLE.replace('!', '!<eos>')\n",
    "    sentences = ARTICLE.split('<eos>')\n",
    "    current_chunk = 0 \n",
    "    chunks = []\n",
    "    for sentence in sentences:\n",
    "        if len(chunks) == current_chunk + 1: \n",
    "            if len(chunks[current_chunk]) + len(sentence.split(' ')) <= max_chunk:\n",
    "                chunks[current_chunk].extend(sentence.split(' '))\n",
    "            else:\n",
    "                current_chunk += 1\n",
    "                chunks.append(sentence.split(' '))\n",
    "        else:\n",
    "            print(current_chunk)\n",
    "            chunks.append(sentence.split(' '))\n",
    "\n",
    "    for chunk_id in range(len(chunks)):\n",
    "        chunks[chunk_id] = ' '.join(chunks[chunk_id])\n",
    "\n",
    "    res = summarizer(chunks, max_length=140, min_length=40, do_sample=False)\n",
    "    text = ' '.join([summ['summary_text'] for summ in res])\n",
    "    length = len(text.split())\n",
    "    feedback_data['summary'][index] = text\n",
    "    feedback_data['summary_length'][index] = length\n",
    "    "
   ]
  },
  {
   "cell_type": "code",
   "execution_count": 55,
   "metadata": {},
   "outputs": [
    {
     "data": {
      "text/plain": [
       "63"
      ]
     },
     "execution_count": 55,
     "metadata": {},
     "output_type": "execute_result"
    }
   ],
   "source": []
  },
  {
   "cell_type": "markdown",
   "metadata": {},
   "source": [
    "# 5. Output to Excel File"
   ]
  },
  {
   "cell_type": "code",
   "execution_count": 90,
   "metadata": {},
   "outputs": [],
   "source": [
    "with open('blogsummary.txt', 'w') as f:\n",
    "    f.write(text)"
   ]
  },
  {
   "cell_type": "code",
   "execution_count": 67,
   "metadata": {},
   "outputs": [
    {
     "name": "stderr",
     "output_type": "stream",
     "text": [
      "<ipython-input-67-b479326cd930>:1: FutureWarning: As the xlwt package is no longer maintained, the xlwt engine will be removed in a future version of pandas. This is the only engine in pandas that supports writing in the xls format. Install openpyxl and write to an xlsx file instead. You can set the option io.excel.xls.writer to 'xlwt' to silence this warning. While this option is deprecated and will also raise a warning, it can be globally set and the warning suppressed.\n",
      "  feedback_data.to_excel('Summarized_feedback.xls')\n"
     ]
    }
   ],
   "source": [
    "feedback_data.to_excel('Summarized_feedback.xls')"
   ]
  },
  {
   "cell_type": "code",
   "execution_count": 68,
   "metadata": {},
   "outputs": [
    {
     "data": {
      "text/html": [
       "<div>\n",
       "<style scoped>\n",
       "    .dataframe tbody tr th:only-of-type {\n",
       "        vertical-align: middle;\n",
       "    }\n",
       "\n",
       "    .dataframe tbody tr th {\n",
       "        vertical-align: top;\n",
       "    }\n",
       "\n",
       "    .dataframe thead th {\n",
       "        text-align: right;\n",
       "    }\n",
       "</style>\n",
       "<table border=\"1\" class=\"dataframe\">\n",
       "  <thead>\n",
       "    <tr style=\"text-align: right;\">\n",
       "      <th></th>\n",
       "      <th>Text</th>\n",
       "      <th>summary</th>\n",
       "      <th>original_length</th>\n",
       "      <th>summary_length</th>\n",
       "    </tr>\n",
       "  </thead>\n",
       "  <tbody>\n",
       "    <tr>\n",
       "      <th>0</th>\n",
       "      <td>I think the most important thing I learned at ...</td>\n",
       "      <td>I think the most important thing I learned at...</td>\n",
       "      <td>191.0</td>\n",
       "      <td>63.0</td>\n",
       "    </tr>\n",
       "    <tr>\n",
       "      <th>1</th>\n",
       "      <td>In the SciLearn bootcamp, I learn that partici...</td>\n",
       "      <td>In the SciLearn bootcamp, I learn that partic...</td>\n",
       "      <td>141.0</td>\n",
       "      <td>63.0</td>\n",
       "    </tr>\n",
       "    <tr>\n",
       "      <th>2</th>\n",
       "      <td>During the Scilearn bootcamp, I learned more a...</td>\n",
       "      <td>During the Scilearn bootcamp, I learned more ...</td>\n",
       "      <td>185.0</td>\n",
       "      <td>66.0</td>\n",
       "    </tr>\n",
       "    <tr>\n",
       "      <th>3</th>\n",
       "      <td>This boot camp gave me an insight into some di...</td>\n",
       "      <td>This boot camp gave me an insight into some d...</td>\n",
       "      <td>113.0</td>\n",
       "      <td>56.0</td>\n",
       "    </tr>\n",
       "    <tr>\n",
       "      <th>4</th>\n",
       "      <td>The Scilearn bootcamp was delivering many sugg...</td>\n",
       "      <td>The Scilearn bootcamp was delivering many sug...</td>\n",
       "      <td>190.0</td>\n",
       "      <td>54.0</td>\n",
       "    </tr>\n",
       "    <tr>\n",
       "      <th>5</th>\n",
       "      <td>SciLearn program introduces some atomic habits...</td>\n",
       "      <td>SciLearn program introduces some atomic habit...</td>\n",
       "      <td>152.0</td>\n",
       "      <td>41.0</td>\n",
       "    </tr>\n",
       "    <tr>\n",
       "      <th>6</th>\n",
       "      <td>The sci learn workshop discussed using the pow...</td>\n",
       "      <td>The sci learn workshop discussed using the po...</td>\n",
       "      <td>250.0</td>\n",
       "      <td>55.0</td>\n",
       "    </tr>\n",
       "    <tr>\n",
       "      <th>7</th>\n",
       "      <td>The SciLearn bootcamp provided me with insight...</td>\n",
       "      <td>The SciLearn bootcamp provided me with insigh...</td>\n",
       "      <td>165.0</td>\n",
       "      <td>59.0</td>\n",
       "    </tr>\n",
       "    <tr>\n",
       "      <th>8</th>\n",
       "      <td>Sci Learn:</td>\n",
       "      <td>Sci Learn: Sci Learn. Sci Learn is a weekly f...</td>\n",
       "      <td>2.0</td>\n",
       "      <td>31.0</td>\n",
       "    </tr>\n",
       "    <tr>\n",
       "      <th>9</th>\n",
       "      <td>I think my biggest take away from the SciLearn...</td>\n",
       "      <td>I think my biggest take away from the SciLear...</td>\n",
       "      <td>125.0</td>\n",
       "      <td>64.0</td>\n",
       "    </tr>\n",
       "    <tr>\n",
       "      <th>10</th>\n",
       "      <td>The session was super helpful! Going into the ...</td>\n",
       "      <td>The session was super helpful!  Going into th...</td>\n",
       "      <td>101.0</td>\n",
       "      <td>54.0</td>\n",
       "    </tr>\n",
       "    <tr>\n",
       "      <th>11</th>\n",
       "      <td>I found this session to be very helpful as I s...</td>\n",
       "      <td>I found this session to be very helpful as I ...</td>\n",
       "      <td>77.0</td>\n",
       "      <td>62.0</td>\n",
       "    </tr>\n",
       "    <tr>\n",
       "      <th>12</th>\n",
       "      <td>After attending SciLearn bootcamp, there are t...</td>\n",
       "      <td>After attending SciLearn bootcamp, there are ...</td>\n",
       "      <td>190.0</td>\n",
       "      <td>55.0</td>\n",
       "    </tr>\n",
       "    <tr>\n",
       "      <th>13</th>\n",
       "      <td>From the SciLearn bootcamp, I have learned to ...</td>\n",
       "      <td>From the SciLearn bootcamp, I have learned to...</td>\n",
       "      <td>81.0</td>\n",
       "      <td>64.0</td>\n",
       "    </tr>\n",
       "    <tr>\n",
       "      <th>14</th>\n",
       "      <td>This workshop helped open my eyes to not only ...</td>\n",
       "      <td>This workshop helped open my eyes to not only...</td>\n",
       "      <td>193.0</td>\n",
       "      <td>58.0</td>\n",
       "    </tr>\n",
       "    <tr>\n",
       "      <th>15</th>\n",
       "      <td>\\nIn the bootcamp I learned that group study s...</td>\n",
       "      <td>In the bootcamp I learned that group study se...</td>\n",
       "      <td>109.0</td>\n",
       "      <td>46.0</td>\n",
       "    </tr>\n",
       "    <tr>\n",
       "      <th>16</th>\n",
       "      <td>The most significant piece of advice I obtaine...</td>\n",
       "      <td>The most significant piece of advice I obtain...</td>\n",
       "      <td>195.0</td>\n",
       "      <td>70.0</td>\n",
       "    </tr>\n",
       "    <tr>\n",
       "      <th>17</th>\n",
       "      <td>I learned from the Bootcamp that we should say...</td>\n",
       "      <td>We should say no to multitasking because our ...</td>\n",
       "      <td>84.0</td>\n",
       "      <td>44.0</td>\n",
       "    </tr>\n",
       "    <tr>\n",
       "      <th>18</th>\n",
       "      <td>I learned from the Bootcamp that we should say...</td>\n",
       "      <td>I learned from Bootcamp that we should say no...</td>\n",
       "      <td>107.0</td>\n",
       "      <td>55.0</td>\n",
       "    </tr>\n",
       "    <tr>\n",
       "      <th>19</th>\n",
       "      <td>During the bootcamp presentation, there are tw...</td>\n",
       "      <td>During bootcamp presentation, presenters talk...</td>\n",
       "      <td>200.0</td>\n",
       "      <td>58.0</td>\n",
       "    </tr>\n",
       "    <tr>\n",
       "      <th>20</th>\n",
       "      <td>From the SciLearn boot camp, I was really inte...</td>\n",
       "      <td>From the SciLearn boot camp, I was really int...</td>\n",
       "      <td>140.0</td>\n",
       "      <td>43.0</td>\n",
       "    </tr>\n",
       "    <tr>\n",
       "      <th>21</th>\n",
       "      <td>Everyone is different, and everyone learns dif...</td>\n",
       "      <td>SciLearn acts as a guidance to help you  find...</td>\n",
       "      <td>189.0</td>\n",
       "      <td>31.0</td>\n",
       "    </tr>\n",
       "    <tr>\n",
       "      <th>22</th>\n",
       "      <td>The session of the Scilearn was very informati...</td>\n",
       "      <td>The session of the Scilearn was very informat...</td>\n",
       "      <td>169.0</td>\n",
       "      <td>57.0</td>\n",
       "    </tr>\n",
       "    <tr>\n",
       "      <th>23</th>\n",
       "      <td>The main thing I learned from the SciLearn Boo...</td>\n",
       "      <td>The main thing I learned from the SciLearn Bo...</td>\n",
       "      <td>113.0</td>\n",
       "      <td>52.0</td>\n",
       "    </tr>\n",
       "    <tr>\n",
       "      <th>24</th>\n",
       "      <td>Since the bootcamp, I have started to hand wri...</td>\n",
       "      <td>Since bootcamp, I have started to hand write ...</td>\n",
       "      <td>85.0</td>\n",
       "      <td>63.0</td>\n",
       "    </tr>\n",
       "    <tr>\n",
       "      <th>25</th>\n",
       "      <td>One of the most important things that bootcamp...</td>\n",
       "      <td>One of the most important things that bootcam...</td>\n",
       "      <td>150.0</td>\n",
       "      <td>75.0</td>\n",
       "    </tr>\n",
       "    <tr>\n",
       "      <th>26</th>\n",
       "      <td>After having attended the SciLearn bootcamp se...</td>\n",
       "      <td>After having attended the SciLearn bootcamp s...</td>\n",
       "      <td>209.0</td>\n",
       "      <td>74.0</td>\n",
       "    </tr>\n",
       "    <tr>\n",
       "      <th>27</th>\n",
       "      <td>To apply what I learned at SciLearn bootcamp i...</td>\n",
       "      <td>To apply what I learned at SciLearn bootcamp,...</td>\n",
       "      <td>182.0</td>\n",
       "      <td>56.0</td>\n",
       "    </tr>\n",
       "    <tr>\n",
       "      <th>28</th>\n",
       "      <td>Through the bootcamp, I learned about seven ma...</td>\n",
       "      <td>Through the bootcamp, I learned about seven m...</td>\n",
       "      <td>199.0</td>\n",
       "      <td>45.0</td>\n",
       "    </tr>\n",
       "    <tr>\n",
       "      <th>29</th>\n",
       "      <td>This session taught me about the value of stud...</td>\n",
       "      <td>This session taught me about the value of stu...</td>\n",
       "      <td>120.0</td>\n",
       "      <td>46.0</td>\n",
       "    </tr>\n",
       "    <tr>\n",
       "      <th>30</th>\n",
       "      <td>I learned that there are better ways to study ...</td>\n",
       "      <td>I learned that there are better ways to study...</td>\n",
       "      <td>148.0</td>\n",
       "      <td>62.0</td>\n",
       "    </tr>\n",
       "  </tbody>\n",
       "</table>\n",
       "</div>"
      ],
      "text/plain": [
       "                                                 Text  \\\n",
       "0   I think the most important thing I learned at ...   \n",
       "1   In the SciLearn bootcamp, I learn that partici...   \n",
       "2   During the Scilearn bootcamp, I learned more a...   \n",
       "3   This boot camp gave me an insight into some di...   \n",
       "4   The Scilearn bootcamp was delivering many sugg...   \n",
       "5   SciLearn program introduces some atomic habits...   \n",
       "6   The sci learn workshop discussed using the pow...   \n",
       "7   The SciLearn bootcamp provided me with insight...   \n",
       "8                                          Sci Learn:   \n",
       "9   I think my biggest take away from the SciLearn...   \n",
       "10  The session was super helpful! Going into the ...   \n",
       "11  I found this session to be very helpful as I s...   \n",
       "12  After attending SciLearn bootcamp, there are t...   \n",
       "13  From the SciLearn bootcamp, I have learned to ...   \n",
       "14  This workshop helped open my eyes to not only ...   \n",
       "15  \\nIn the bootcamp I learned that group study s...   \n",
       "16  The most significant piece of advice I obtaine...   \n",
       "17  I learned from the Bootcamp that we should say...   \n",
       "18  I learned from the Bootcamp that we should say...   \n",
       "19  During the bootcamp presentation, there are tw...   \n",
       "20  From the SciLearn boot camp, I was really inte...   \n",
       "21  Everyone is different, and everyone learns dif...   \n",
       "22  The session of the Scilearn was very informati...   \n",
       "23  The main thing I learned from the SciLearn Boo...   \n",
       "24  Since the bootcamp, I have started to hand wri...   \n",
       "25  One of the most important things that bootcamp...   \n",
       "26  After having attended the SciLearn bootcamp se...   \n",
       "27  To apply what I learned at SciLearn bootcamp i...   \n",
       "28  Through the bootcamp, I learned about seven ma...   \n",
       "29  This session taught me about the value of stud...   \n",
       "30  I learned that there are better ways to study ...   \n",
       "\n",
       "                                              summary  original_length  \\\n",
       "0    I think the most important thing I learned at...            191.0   \n",
       "1    In the SciLearn bootcamp, I learn that partic...            141.0   \n",
       "2    During the Scilearn bootcamp, I learned more ...            185.0   \n",
       "3    This boot camp gave me an insight into some d...            113.0   \n",
       "4    The Scilearn bootcamp was delivering many sug...            190.0   \n",
       "5    SciLearn program introduces some atomic habit...            152.0   \n",
       "6    The sci learn workshop discussed using the po...            250.0   \n",
       "7    The SciLearn bootcamp provided me with insigh...            165.0   \n",
       "8    Sci Learn: Sci Learn. Sci Learn is a weekly f...              2.0   \n",
       "9    I think my biggest take away from the SciLear...            125.0   \n",
       "10   The session was super helpful!  Going into th...            101.0   \n",
       "11   I found this session to be very helpful as I ...             77.0   \n",
       "12   After attending SciLearn bootcamp, there are ...            190.0   \n",
       "13   From the SciLearn bootcamp, I have learned to...             81.0   \n",
       "14   This workshop helped open my eyes to not only...            193.0   \n",
       "15   In the bootcamp I learned that group study se...            109.0   \n",
       "16   The most significant piece of advice I obtain...            195.0   \n",
       "17   We should say no to multitasking because our ...             84.0   \n",
       "18   I learned from Bootcamp that we should say no...            107.0   \n",
       "19   During bootcamp presentation, presenters talk...            200.0   \n",
       "20   From the SciLearn boot camp, I was really int...            140.0   \n",
       "21   SciLearn acts as a guidance to help you  find...            189.0   \n",
       "22   The session of the Scilearn was very informat...            169.0   \n",
       "23   The main thing I learned from the SciLearn Bo...            113.0   \n",
       "24   Since bootcamp, I have started to hand write ...             85.0   \n",
       "25   One of the most important things that bootcam...            150.0   \n",
       "26   After having attended the SciLearn bootcamp s...            209.0   \n",
       "27   To apply what I learned at SciLearn bootcamp,...            182.0   \n",
       "28   Through the bootcamp, I learned about seven m...            199.0   \n",
       "29   This session taught me about the value of stu...            120.0   \n",
       "30   I learned that there are better ways to study...            148.0   \n",
       "\n",
       "    summary_length  \n",
       "0             63.0  \n",
       "1             63.0  \n",
       "2             66.0  \n",
       "3             56.0  \n",
       "4             54.0  \n",
       "5             41.0  \n",
       "6             55.0  \n",
       "7             59.0  \n",
       "8             31.0  \n",
       "9             64.0  \n",
       "10            54.0  \n",
       "11            62.0  \n",
       "12            55.0  \n",
       "13            64.0  \n",
       "14            58.0  \n",
       "15            46.0  \n",
       "16            70.0  \n",
       "17            44.0  \n",
       "18            55.0  \n",
       "19            58.0  \n",
       "20            43.0  \n",
       "21            31.0  \n",
       "22            57.0  \n",
       "23            52.0  \n",
       "24            63.0  \n",
       "25            75.0  \n",
       "26            74.0  \n",
       "27            56.0  \n",
       "28            45.0  \n",
       "29            46.0  \n",
       "30            62.0  "
      ]
     },
     "execution_count": 68,
     "metadata": {},
     "output_type": "execute_result"
    }
   ],
   "source": [
    "feedback_data"
   ]
  },
  {
   "cell_type": "code",
   "execution_count": null,
   "metadata": {},
   "outputs": [],
   "source": []
  }
 ],
 "metadata": {
  "kernelspec": {
   "display_name": "Python 3",
   "language": "python",
   "name": "python3"
  },
  "language_info": {
   "codemirror_mode": {
    "name": "ipython",
    "version": 3
   },
   "file_extension": ".py",
   "mimetype": "text/x-python",
   "name": "python",
   "nbconvert_exporter": "python",
   "pygments_lexer": "ipython3",
   "version": "3.8.8"
  }
 },
 "nbformat": 4,
 "nbformat_minor": 4
}
